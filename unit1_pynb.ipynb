{
  "cells": [
    {
      "cell_type": "markdown",
      "metadata": {
        "id": "view-in-github",
        "colab_type": "text"
      },
      "source": [
        "<a href=\"https://colab.research.google.com/github/RAHUL120244/14feb/blob/main/unit1_pynb.ipynb\" target=\"_parent\"><img src=\"https://colab.research.google.com/assets/colab-badge.svg\" alt=\"Open In Colab\"/></a>"
      ]
    },
    {
      "cell_type": "markdown",
      "source": [
        "1.int -use for the categorical encodings ,class id's,one hot indexing and token id's in nlp\n",
        "\n",
        "2.float:-it rapresent real world value data like features , predication ,gradient,and weights\n",
        "\n",
        "3.complex:--use to signal proccesing ,audio and image analysis,spectral methods such as FFT in EEG\n",
        "\n",
        "4.Float32/float64:--standard in deep learning fram works like pytorch and tensorflow to blance precision and memeory uses\n",
        "\n",
        "int32/int64:--usefull for labels indexing arrays/tensor and specifing sequence length"
      ],
      "metadata": {
        "id": "pTSZc3n8tAl7"
      }
    },
    {
      "cell_type": "code",
      "source": [
        "power_levels=[86,92.5,75,88.0,91]\n",
        "if power_levels:\n",
        "  avarage=sum(power_levels)/len(power_levels)\n",
        "  avarage=round(avarage,2)\n",
        "\n",
        "else:\n",
        "  avarage=0\n",
        "\n",
        "print(avarage)"
      ],
      "metadata": {
        "colab": {
          "base_uri": "https://localhost:8080/"
        },
        "id": "5qlKh-eLvLzr",
        "outputId": "363d1d27-da57-4661-a406-b959b77650a3"
      },
      "execution_count": 7,
      "outputs": [
        {
          "output_type": "stream",
          "name": "stdout",
          "text": [
            "86.5\n"
          ]
        }
      ]
    },
    {
      "cell_type": "markdown",
      "source": [
        "INTERVIEW TIPS:-- never understimate input validation an empty list or incorrect data analist can colaps your algorithm."
      ],
      "metadata": {
        "id": "-sr0R8Y6z7wX"
      }
    },
    {
      "cell_type": "markdown",
      "source": [
        "DATA TYPE:--1.numeric ,2.TEXT,3.sequence,4.mapping,5.binary,6.none\n",
        "\n",
        "1.numeric:--int,float,complex\n",
        "\n",
        "            x=10,x=3.14,x=3+2j\n",
        "\n",
        "2.text:--string\n",
        "\n",
        "          x=\"rahul\"\n",
        "\n",
        "3.sequence:--list,tuple,range\n",
        "\n",
        "            x=[1,2,Rahul]\n",
        "\n",
        "4.mapping:--dict\n",
        "\n",
        "5.Binary:-- bytes,memoryview,bytesarray\n"
      ],
      "metadata": {
        "id": "frgVO-Rirx-E"
      }
    },
    {
      "cell_type": "markdown",
      "source": [
        "\n",
        "\n",
        "\n",
        "\n",
        "\n",
        "globle and local variable"
      ],
      "metadata": {
        "id": "Q8hCo1h2vE3g"
      }
    },
    {
      "cell_type": "code",
      "source": [
        "msg1=\"hii\" #<--globle variable\n",
        "def greet():\n",
        "  msg=\"hello\"\n",
        "  print(msg)\n",
        "\n",
        "\n",
        "greet()\n",
        "print(\"outside local scope:\",msg1) #<--output"
      ],
      "metadata": {
        "id": "v1A4i0Nz8Sl2",
        "colab": {
          "base_uri": "https://localhost:8080/"
        },
        "outputId": "c53cbf5d-74fb-4b6f-e35a-31d26f6e66eb"
      },
      "execution_count": 8,
      "outputs": [
        {
          "output_type": "stream",
          "name": "stdout",
          "text": [
            "hello\n",
            "outside local scope: hii\n"
          ]
        }
      ]
    },
    {
      "cell_type": "markdown",
      "source": [
        "swap variable\n"
      ],
      "metadata": {
        "id": "DM49y82NCOUL"
      }
    },
    {
      "cell_type": "code",
      "source": [
        "thanos_score=146\n",
        "thor_score=200\n",
        "thanos_score,thor_score=thor_score,thanos_score\n",
        "print(thanos_score,thor_score)\n"
      ],
      "metadata": {
        "colab": {
          "base_uri": "https://localhost:8080/"
        },
        "id": "w37whelGqF1L",
        "outputId": "3aa7c628-48b0-44c2-e61f-6580a04ea7b8"
      },
      "execution_count": 9,
      "outputs": [
        {
          "output_type": "stream",
          "name": "stdout",
          "text": [
            "200 146\n"
          ]
        }
      ]
    },
    {
      "cell_type": "markdown",
      "source": [
        "typcating of veairables\n"
      ],
      "metadata": {
        "id": "8XfFvi05mj9O"
      }
    },
    {
      "cell_type": "code",
      "source": [
        "val =\"10\"\n",
        "val_new=int(val)\n",
        "print(val_new)\n",
        "val1_new=str(val)\n",
        "print(val_new)"
      ],
      "metadata": {
        "colab": {
          "base_uri": "https://localhost:8080/"
        },
        "id": "yw07pF80mlyR",
        "outputId": "b4a7be71-de1e-4a7e-fd71-1c1d345fca5c"
      },
      "execution_count": 10,
      "outputs": [
        {
          "output_type": "stream",
          "name": "stdout",
          "text": [
            "10\n",
            "10\n"
          ]
        }
      ]
    },
    {
      "cell_type": "markdown",
      "source": [
        "hulk strength level is recorded as a string input 1000 convert it into integer and increase by 200\n",
        "\n",
        "B. doctore strange recorde the time in second but accidently input in the form of string value is 6000 convert it in intezer and convert it into hours"
      ],
      "metadata": {
        "id": "vLTCJYdSnmE8"
      }
    },
    {
      "cell_type": "code",
      "source": [
        "hulk_strength=\"1000\"\n",
        "hulk_new=int(hulk_strength)\n",
        "print(hulk_new+200)\n",
        "dr_strange=\"6000\"\n",
        "dr_new=int(dr_strange)\n",
        "print(dr_new/60)"
      ],
      "metadata": {
        "id": "up_SWw51o2WP",
        "colab": {
          "base_uri": "https://localhost:8080/"
        },
        "outputId": "fcbc6407-f613-4f6e-ef01-9b1f1d9ab532"
      },
      "execution_count": 11,
      "outputs": [
        {
          "output_type": "stream",
          "name": "stdout",
          "text": [
            "1200\n",
            "100.0\n"
          ]
        }
      ]
    },
    {
      "cell_type": "markdown",
      "source": [
        "C.lokii recorded seven hits out of ten shots both in integer convert them into flot and the calcute the accurecy pracentage\n"
      ],
      "metadata": {
        "id": "LaTdTVlHpBUh"
      }
    },
    {
      "cell_type": "code",
      "source": [
        "shots_total=10\n",
        "hits=7\n",
        "acc=(float(hits)/float(shots_total))*100\n",
        "print( f\"Accuracy:{acc:.2f} %\")"
      ],
      "metadata": {
        "colab": {
          "base_uri": "https://localhost:8080/"
        },
        "id": "jaAVHSfZpYAO",
        "outputId": "cccfc9e5-caa6-4b7e-8250-9e0fea4afc47"
      },
      "execution_count": 12,
      "outputs": [
        {
          "output_type": "stream",
          "name": "stdout",
          "text": [
            "Accuracy:70.00 %\n"
          ]
        }
      ]
    },
    {
      "cell_type": "markdown",
      "source": [
        "D .Thor hammer weight is 5000 in tnteze but you need calculate gravitationl force which require it is a float"
      ],
      "metadata": {
        "id": "JU_TFuMYqr8W"
      }
    },
    {
      "cell_type": "code",
      "source": [
        "hulk_strength=\"1000\"\n",
        "hulk_new=int(hulk_strength)\n",
        "print(hulk_new+200)\n",
        "dr_strange=\"6000\"\n",
        "dr_new=int(dr_strange)\n",
        "print(dr_new/60)"
      ],
      "metadata": {
        "colab": {
          "base_uri": "https://localhost:8080/"
        },
        "id": "Czt4Zr1Bn5OE",
        "outputId": "66108845-2831-4fc3-d0a2-3254fbefb1ab"
      },
      "execution_count": 13,
      "outputs": [
        {
          "output_type": "stream",
          "name": "stdout",
          "text": [
            "1200\n",
            "100.0\n"
          ]
        }
      ]
    },
    {
      "cell_type": "markdown",
      "source": [
        "2.reassigning a variable does not affect other variable refrencing same object unless we append this variable\n"
      ],
      "metadata": {
        "id": "WVvC-oMGqivz"
      }
    },
    {
      "cell_type": "code",
      "source": [
        "a=[1,2,3]\n",
        "b=a\n",
        "b=[4,5,6]\n",
        "print(\"a\",a)\n",
        "print(\"b\",b)\n",
        "del a  #for free up  the memory we can use this\n",
        "print(a)"
      ],
      "metadata": {
        "colab": {
          "base_uri": "https://localhost:8080/",
          "height": 211
        },
        "id": "RI9htISZqmMU",
        "outputId": "5b7ab067-7390-4bc5-f338-3f446ec4cbad"
      },
      "execution_count": 21,
      "outputs": [
        {
          "output_type": "stream",
          "name": "stdout",
          "text": [
            "a [1, 2, 3]\n",
            "b [4, 5, 6]\n"
          ]
        },
        {
          "output_type": "error",
          "ename": "NameError",
          "evalue": "name 'a' is not defined",
          "traceback": [
            "\u001b[0;31m---------------------------------------------------------------------------\u001b[0m",
            "\u001b[0;31mNameError\u001b[0m                                 Traceback (most recent call last)",
            "\u001b[0;32m/tmp/ipython-input-3171084290.py\u001b[0m in \u001b[0;36m<cell line: 0>\u001b[0;34m()\u001b[0m\n\u001b[1;32m      5\u001b[0m \u001b[0mprint\u001b[0m\u001b[0;34m(\u001b[0m\u001b[0;34m\"b\"\u001b[0m\u001b[0;34m,\u001b[0m\u001b[0mb\u001b[0m\u001b[0;34m)\u001b[0m\u001b[0;34m\u001b[0m\u001b[0;34m\u001b[0m\u001b[0m\n\u001b[1;32m      6\u001b[0m \u001b[0;32mdel\u001b[0m \u001b[0ma\u001b[0m  \u001b[0;31m#for free up  the memory we can use this\u001b[0m\u001b[0;34m\u001b[0m\u001b[0;34m\u001b[0m\u001b[0m\n\u001b[0;32m----> 7\u001b[0;31m \u001b[0mprint\u001b[0m\u001b[0;34m(\u001b[0m\u001b[0ma\u001b[0m\u001b[0;34m)\u001b[0m\u001b[0;34m\u001b[0m\u001b[0;34m\u001b[0m\u001b[0m\n\u001b[0m",
            "\u001b[0;31mNameError\u001b[0m: name 'a' is not defined"
          ]
        }
      ]
    },
    {
      "cell_type": "markdown",
      "source": [
        "object refrence"
      ],
      "metadata": {
        "id": "ayv7gUAWs5o3"
      }
    },
    {
      "cell_type": "code",
      "source": [
        "shield=[\"uibranium\",\"round\"]\n",
        "copy_shield=shield\n",
        "print(\"original shield stored:\",shield)\n",
        "print(\"wolverine changes the shield material.\")\n",
        "copy_shield[0]=\"adamantium\"\n",
        "print(\"new shield is:\",shield)"
      ],
      "metadata": {
        "colab": {
          "base_uri": "https://localhost:8080/"
        },
        "id": "A39xAu0Ds_qu",
        "outputId": "91c3b4d8-9c3b-4121-dd6c-bb6992ff1d2c"
      },
      "execution_count": 20,
      "outputs": [
        {
          "output_type": "stream",
          "name": "stdout",
          "text": [
            "original shield stored: ['uibranium', 'round']\n",
            "wolverine changes the shield material.\n",
            "new shield is: ['adamantium', 'round']\n"
          ]
        }
      ]
    },
    {
      "cell_type": "markdown",
      "source": [
        "a=[81,82,83]\n",
        "b=[81,82,83]"
      ],
      "metadata": {
        "id": "ZQvixs5Eu_t1"
      }
    },
    {
      "cell_type": "code",
      "source": [
        "a=[81,82,83]\n",
        "b=[81,82,83]\n",
        "print(a is b)\n",
        "print(a==b)"
      ],
      "metadata": {
        "colab": {
          "base_uri": "https://localhost:8080/"
        },
        "id": "ekcmUPXJvI5H",
        "outputId": "6c33849d-9f1c-46cc-a6e6-a2ba6d1c2df4"
      },
      "execution_count": 19,
      "outputs": [
        {
          "output_type": "stream",
          "name": "stdout",
          "text": [
            "False\n",
            "True\n"
          ]
        }
      ]
    },
    {
      "cell_type": "markdown",
      "source": [
        "Q.string operation"
      ],
      "metadata": {
        "id": "_hILgUOjDH9k"
      }
    },
    {
      "cell_type": "code",
      "source": [
        "X=\"hEllo\"\n",
        "print(X.upper())\n",
        "print(X.lower())\n",
        "print(X.replace('o','O'))\n",
        "print(X[1:5])\n",
        "\n",
        "print(X.title())\n",
        "\n",
        "print(X.swapcase())\n",
        "print(X.capitalize())\n",
        "\n",
        "print(X.count('l'))\n",
        "print(X.casefold())\n",
        "print(X.center(50))\n",
        "\n"
      ],
      "metadata": {
        "colab": {
          "base_uri": "https://localhost:8080/"
        },
        "id": "pw_qB1y_DOFG",
        "outputId": "9f697911-a858-40a6-9eb9-fe13f7da0dc7"
      },
      "execution_count": 18,
      "outputs": [
        {
          "output_type": "stream",
          "name": "stdout",
          "text": [
            "HELLO\n",
            "hello\n",
            "hEllO\n",
            "Ello\n",
            "Hello\n",
            "HeLLO\n",
            "Hello\n",
            "2\n",
            "hello\n",
            "                      hEllo                       \n"
          ]
        }
      ]
    },
    {
      "cell_type": "markdown",
      "source": [
        "AVARAGE FIND\n"
      ],
      "metadata": {
        "id": "G-mz0c3M-kvZ"
      }
    },
    {
      "cell_type": "code",
      "source": [
        "import statistics\n",
        "powerlevel={\"Iron_man\":98,\"Hulk\":100}\n",
        "              #KEY    VALUE\n",
        "avg_level=statistics.mean(powerlevel.values())\n",
        "print(avg_level)\n"
      ],
      "metadata": {
        "colab": {
          "base_uri": "https://localhost:8080/"
        },
        "id": "nYQENYL71ksO",
        "outputId": "2e550b4c-bf7a-4067-aba3-653cc393104e"
      },
      "execution_count": 17,
      "outputs": [
        {
          "output_type": "stream",
          "name": "stdout",
          "text": [
            "99\n"
          ]
        }
      ]
    },
    {
      "cell_type": "markdown",
      "source": [
        "INTERVIEW TIPS:-\n",
        "\n",
        "1.Dictionry vs list:-dic. is best when data can be mapped.List works when order aor sequence matters.\n",
        "\n",
        "2.Efficiency:--compute the avarage in one pass using built in function or libraries.\n",
        "\n",
        "3.keep the time complexity in the mind."
      ],
      "metadata": {
        "id": "rOH4ei2Q3-Zr"
      }
    },
    {
      "cell_type": "markdown",
      "source": [
        "  Q.1 WRITE the python program to find largest and smallest in list."
      ],
      "metadata": {
        "id": "nW53Qsmw_Af1"
      }
    },
    {
      "cell_type": "code",
      "source": [
        "num=[4,7,1,9,12,3]\n",
        "min=max=num[0]\n",
        "for n in num:\n",
        "  if n<min:\n",
        "    min=n\n",
        "  if n>max:\n",
        "    max=n\n",
        "print(f\"max is{max}and min is {min}\")"
      ],
      "metadata": {
        "colab": {
          "base_uri": "https://localhost:8080/"
        },
        "id": "CpaseAQX_b7M",
        "outputId": "e2e97c95-e398-4161-f4e9-20978f117313"
      },
      "execution_count": 16,
      "outputs": [
        {
          "output_type": "stream",
          "name": "stdout",
          "text": [
            "max is12and min is 1\n"
          ]
        }
      ]
    },
    {
      "cell_type": "markdown",
      "source": [
        "Q.2 ROTATE a list to the right by K step."
      ],
      "metadata": {
        "id": "39JbgR5f_MAS"
      }
    },
    {
      "cell_type": "code",
      "source": [
        "num=[1,2,3,4,5]\n",
        "k=2\n",
        "k=k%len(num)\n",
        "rotated=num[-k: ]+num[ :-k]\n",
        "print(rotated)"
      ],
      "metadata": {
        "colab": {
          "base_uri": "https://localhost:8080/"
        },
        "id": "k13jzLIWCK8L",
        "outputId": "3fd7679c-0072-4103-d64f-810d44febcd0"
      },
      "execution_count": 15,
      "outputs": [
        {
          "output_type": "stream",
          "name": "stdout",
          "text": [
            "[4, 5, 1, 2, 3]\n"
          ]
        }
      ]
    }
  ],
  "metadata": {
    "colab": {
      "provenance": [],
      "include_colab_link": true
    },
    "kernelspec": {
      "display_name": "Python 3",
      "name": "python3"
    }
  },
  "nbformat": 4,
  "nbformat_minor": 0
}