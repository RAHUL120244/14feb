{
  "cells": [
    {
      "cell_type": "markdown",
      "metadata": {
        "id": "view-in-github",
        "colab_type": "text"
      },
      "source": [
        "<a href=\"https://colab.research.google.com/github/RAHUL120244/14feb/blob/main/unit1_pynb.ipynb\" target=\"_parent\"><img src=\"https://colab.research.google.com/assets/colab-badge.svg\" alt=\"Open In Colab\"/></a>"
      ]
    },
    {
      "cell_type": "markdown",
      "source": [
        "1.int -use for the categorical encodings ,class id's,one hot indexing and token id's in nlp\n",
        "\n",
        "2.float:-it rapresent real world value data like features , predication ,gradient,and weights\n",
        "\n",
        "3.complex:--use to signal proccesing ,audio and image analysis,spectral methods such as FFT in EEG\n",
        "\n",
        "4.Float32/float64:--standard in deep learning fram works like pytorch and tensorflow to blance precision and memeory uses\n",
        "\n",
        "int32/int64:--usefull for labels indexing arrays/tensor and specifing sequence length"
      ],
      "metadata": {
        "id": "pTSZc3n8tAl7"
      }
    },
    {
      "cell_type": "code",
      "source": [
        "power_levels=[86,92.5,75,88.0,91]\n",
        "if power_levels:\n",
        "  avarage=sum(power_levels)/len(power_levels)\n",
        "  avarage=round(avarage,2)\n",
        "\n",
        "else:\n",
        "  avarage=0\n",
        "\n",
        "print(avarage)"
      ],
      "metadata": {
        "colab": {
          "base_uri": "https://localhost:8080/"
        },
        "id": "5qlKh-eLvLzr",
        "outputId": "0e220db4-7424-491d-b12a-5c938e00365e"
      },
      "execution_count": 9,
      "outputs": [
        {
          "output_type": "stream",
          "name": "stdout",
          "text": [
            "86.5\n"
          ]
        }
      ]
    },
    {
      "cell_type": "markdown",
      "source": [
        "INTERVIEW TIPS:-- never understimate input validation an empty list or incorrect data analist can colaps your algorithm."
      ],
      "metadata": {
        "id": "-sr0R8Y6z7wX"
      }
    },
    {
      "cell_type": "markdown",
      "source": [
        "DATA TYPE:--1.numeric ,2.TEXT,3.sequence,4.mapping,5.binary,6.none\n",
        "\n",
        "1.numeric:--int,float,complex\n",
        "\n",
        "            x=10,x=3.14,x=3+2j\n",
        "\n",
        "2.text:--string\n",
        "\n",
        "          x=\"rahul\"\n",
        "\n",
        "3.sequence:--list,tuple,range\n",
        "\n",
        "            x=[1,2,Rahul]\n",
        "\n",
        "4.mapping:--dict\n",
        "\n",
        "5.Binary:-- bytes,memoryview,bytesarray\n"
      ],
      "metadata": {
        "id": "frgVO-Rirx-E"
      }
    },
    {
      "cell_type": "markdown",
      "source": [
        "\n",
        "\n",
        "\n",
        "\n",
        "\n",
        "globle and local variable"
      ],
      "metadata": {
        "id": "Q8hCo1h2vE3g"
      }
    },
    {
      "cell_type": "code",
      "source": [
        "msg1=\"hii\" #<--globle variable\n",
        "def greet():\n",
        "  msg=\"hello\"\n",
        "  print(msg)\n",
        "\n",
        "\n",
        "greet()\n",
        "print(\"outside local scope:\",msg1) #<--output"
      ],
      "metadata": {
        "id": "v1A4i0Nz8Sl2",
        "colab": {
          "base_uri": "https://localhost:8080/"
        },
        "outputId": "7fc5705b-38fa-464b-cbf3-23b364e96428"
      },
      "execution_count": null,
      "outputs": [
        {
          "output_type": "stream",
          "name": "stdout",
          "text": [
            "hello\n",
            "outside local scope: hii\n"
          ]
        }
      ]
    },
    {
      "cell_type": "markdown",
      "source": [
        "swap variable\n"
      ],
      "metadata": {
        "id": "DM49y82NCOUL"
      }
    },
    {
      "cell_type": "code",
      "source": [
        "thanos_score=146\n",
        "thor_score=200\n",
        "thanos_score,thor_score=thor_score,thanos_score\n",
        "print(thanos_score,thor_score)\n"
      ],
      "metadata": {
        "colab": {
          "base_uri": "https://localhost:8080/"
        },
        "id": "w37whelGqF1L",
        "outputId": "adaab6c2-e923-4a7b-b362-97d377b7e87c"
      },
      "execution_count": null,
      "outputs": [
        {
          "output_type": "stream",
          "name": "stdout",
          "text": [
            "200 146\n"
          ]
        }
      ]
    },
    {
      "cell_type": "markdown",
      "source": [
        "typcating of veairables\n"
      ],
      "metadata": {
        "id": "8XfFvi05mj9O"
      }
    },
    {
      "cell_type": "code",
      "source": [
        "val =\"10\"\n",
        "val_new=int(val)\n",
        "print(val_new)\n",
        "val1_new=str(val)\n",
        "print(val_new)"
      ],
      "metadata": {
        "colab": {
          "base_uri": "https://localhost:8080/"
        },
        "id": "yw07pF80mlyR",
        "outputId": "fdfdb86a-5cee-41ad-cf76-216b739dee48"
      },
      "execution_count": null,
      "outputs": [
        {
          "output_type": "stream",
          "name": "stdout",
          "text": [
            "10\n",
            "10\n"
          ]
        }
      ]
    },
    {
      "cell_type": "markdown",
      "source": [
        "hulk strength level is recorded as a string input 1000 convert it into integer and increase by 200\n",
        "\n",
        "B. doctore strange recorde the time in second but accidently input in the form of string value is 6000 convert it in intezer and convert it into hours"
      ],
      "metadata": {
        "id": "vLTCJYdSnmE8"
      }
    },
    {
      "cell_type": "code",
      "source": [
        "hulk_strength=\"1000\"\n",
        "hulk_new=int(hulk_strength)\n",
        "print(hulk_new+200)\n",
        "dr_strange=\"6000\"\n",
        "dr_new=int(dr_strange)\n",
        "print(dr_new/60)"
      ],
      "metadata": {
        "id": "up_SWw51o2WP",
        "colab": {
          "base_uri": "https://localhost:8080/"
        },
        "outputId": "f6784a02-2ed8-42cf-9f0e-04e0439301b5"
      },
      "execution_count": null,
      "outputs": [
        {
          "output_type": "stream",
          "name": "stdout",
          "text": [
            "1200\n",
            "100.0\n"
          ]
        }
      ]
    },
    {
      "cell_type": "markdown",
      "source": [
        "C.lokii recorded seven hits out of ten shots both in integer convert them into flot and the calcute the accurecy pracentage\n"
      ],
      "metadata": {
        "id": "LaTdTVlHpBUh"
      }
    },
    {
      "cell_type": "code",
      "source": [
        "shots_total=10\n",
        "hits=7\n",
        "acc=(float(hits)/float(shots_total))*100\n",
        "print( f\"Accuracy:{acc:.2f} %\")"
      ],
      "metadata": {
        "colab": {
          "base_uri": "https://localhost:8080/"
        },
        "id": "jaAVHSfZpYAO",
        "outputId": "de4f917d-731d-4755-c6dd-57d1cd144292"
      },
      "execution_count": null,
      "outputs": [
        {
          "output_type": "stream",
          "name": "stdout",
          "text": [
            "Accuracy:70.00 %\n"
          ]
        }
      ]
    },
    {
      "cell_type": "markdown",
      "source": [
        "D .Thor hammer weight is 5000 in tnteze but you need calculate gravitationl force which require it is a float"
      ],
      "metadata": {
        "id": "JU_TFuMYqr8W"
      }
    },
    {
      "cell_type": "code",
      "source": [
        "hulk_strength=\"1000\"\n",
        "hulk_new=int(hulk_strength)\n",
        "print(hulk_new+200)\n",
        "dr_strange=\"6000\"\n",
        "dr_new=int(dr_strange)\n",
        "print(dr_new/60)"
      ],
      "metadata": {
        "colab": {
          "base_uri": "https://localhost:8080/"
        },
        "id": "Czt4Zr1Bn5OE",
        "outputId": "0ef32ed7-cad5-447d-c254-2d48c870911c"
      },
      "execution_count": null,
      "outputs": [
        {
          "output_type": "stream",
          "name": "stdout",
          "text": [
            "1200\n",
            "100.0\n"
          ]
        }
      ]
    },
    {
      "cell_type": "markdown",
      "source": [
        "2.reassigning a variable does not affect other variable refrencing same object unless we append this variable\n"
      ],
      "metadata": {
        "id": "WVvC-oMGqivz"
      }
    },
    {
      "cell_type": "code",
      "source": [
        "a=[1,2,3]\n",
        "b=a\n",
        "b=[4,5,6]\n",
        "print(\"a\",a)\n",
        "print(\"b\",b)\n",
        "del a  #for free up  the memory we can use this\n",
        "print(a)"
      ],
      "metadata": {
        "colab": {
          "base_uri": "https://localhost:8080/",
          "height": 211
        },
        "id": "RI9htISZqmMU",
        "outputId": "79307723-c609-4d39-9e1e-974d198fb582"
      },
      "execution_count": null,
      "outputs": [
        {
          "output_type": "stream",
          "name": "stdout",
          "text": [
            "a [1, 2, 3]\n",
            "b [4, 5, 6]\n"
          ]
        },
        {
          "output_type": "error",
          "ename": "NameError",
          "evalue": "name 'a' is not defined",
          "traceback": [
            "\u001b[0;31m---------------------------------------------------------------------------\u001b[0m",
            "\u001b[0;31mNameError\u001b[0m                                 Traceback (most recent call last)",
            "\u001b[0;32m/tmp/ipython-input-3171084290.py\u001b[0m in \u001b[0;36m<cell line: 0>\u001b[0;34m()\u001b[0m\n\u001b[1;32m      5\u001b[0m \u001b[0mprint\u001b[0m\u001b[0;34m(\u001b[0m\u001b[0;34m\"b\"\u001b[0m\u001b[0;34m,\u001b[0m\u001b[0mb\u001b[0m\u001b[0;34m)\u001b[0m\u001b[0;34m\u001b[0m\u001b[0;34m\u001b[0m\u001b[0m\n\u001b[1;32m      6\u001b[0m \u001b[0;32mdel\u001b[0m \u001b[0ma\u001b[0m  \u001b[0;31m#for free up  the memory we can use this\u001b[0m\u001b[0;34m\u001b[0m\u001b[0;34m\u001b[0m\u001b[0m\n\u001b[0;32m----> 7\u001b[0;31m \u001b[0mprint\u001b[0m\u001b[0;34m(\u001b[0m\u001b[0ma\u001b[0m\u001b[0;34m)\u001b[0m\u001b[0;34m\u001b[0m\u001b[0;34m\u001b[0m\u001b[0m\n\u001b[0m",
            "\u001b[0;31mNameError\u001b[0m: name 'a' is not defined"
          ]
        }
      ]
    },
    {
      "cell_type": "markdown",
      "source": [
        "object refrence"
      ],
      "metadata": {
        "id": "ayv7gUAWs5o3"
      }
    },
    {
      "cell_type": "code",
      "source": [
        "shield=[\"uibranium\",\"round\"]\n",
        "copy_shield=shield\n",
        "print(\"original shield stored:\",shield)\n",
        "print(\"wolverine changes the shield material.\")\n",
        "copy_shield[0]=\"adamantium\"\n",
        "print(\"new shield is:\",shield)"
      ],
      "metadata": {
        "colab": {
          "base_uri": "https://localhost:8080/"
        },
        "id": "A39xAu0Ds_qu",
        "outputId": "22a90fec-d7e2-436b-d2f0-afd9c17e0a60"
      },
      "execution_count": null,
      "outputs": [
        {
          "output_type": "stream",
          "name": "stdout",
          "text": [
            "original shield stored: ['uibranium', 'round']\n",
            "wolverine changes the shield material.\n",
            "new shield is: ['adamantium', 'round']\n"
          ]
        }
      ]
    },
    {
      "cell_type": "markdown",
      "source": [
        "a=[81,82,83]\n",
        "b=[81,82,83]"
      ],
      "metadata": {
        "id": "ZQvixs5Eu_t1"
      }
    },
    {
      "cell_type": "code",
      "source": [
        "a=[81,82,83]\n",
        "b=[81,82,83]\n",
        "print(a is b)\n",
        "print(a==b)"
      ],
      "metadata": {
        "colab": {
          "base_uri": "https://localhost:8080/"
        },
        "id": "ekcmUPXJvI5H",
        "outputId": "c6766ace-dc5c-416d-fa75-aeeb5a9a45f0"
      },
      "execution_count": null,
      "outputs": [
        {
          "output_type": "stream",
          "name": "stdout",
          "text": [
            "False\n",
            "True\n"
          ]
        }
      ]
    },
    {
      "cell_type": "markdown",
      "source": [
        "Q.string operation"
      ],
      "metadata": {
        "id": "_hILgUOjDH9k"
      }
    },
    {
      "cell_type": "code",
      "source": [
        "X=\"hEllo\"\n",
        "print(X.upper())\n",
        "print(X.lower())\n",
        "print(X.replace('o','O'))\n",
        "print(X[1:5])\n",
        "\n",
        "print(X.title())\n",
        "\n",
        "print(X.swapcase())\n",
        "print(X.capitalize())\n",
        "\n",
        "print(X.count('l'))\n",
        "print(X.casefold())\n",
        "print(X.center(50))\n",
        "\n"
      ],
      "metadata": {
        "colab": {
          "base_uri": "https://localhost:8080/"
        },
        "id": "pw_qB1y_DOFG",
        "outputId": "dc6af0d1-ebb4-4c51-85e2-5073e71e11ca"
      },
      "execution_count": null,
      "outputs": [
        {
          "output_type": "stream",
          "name": "stdout",
          "text": [
            "HELLO\n",
            "hello\n",
            "hEllO\n",
            "Ello\n",
            "Hello\n",
            "HeLLO\n",
            "Hello\n",
            "2\n",
            "hello\n",
            "                      hEllo                       \n"
          ]
        }
      ]
    },
    {
      "cell_type": "code",
      "source": [
        "import statistics\n",
        "powerlevel={\"Iron_man\":98,\"Hulk\":100}\n",
        "              #KEY    VALUE\n",
        "avg_level=statistics.mean(powerlevel.values())\n",
        "print(avg_level)\n"
      ],
      "metadata": {
        "colab": {
          "base_uri": "https://localhost:8080/"
        },
        "id": "nYQENYL71ksO",
        "outputId": "27186f6b-9e2d-46dd-9c82-95148342d0a1"
      },
      "execution_count": 10,
      "outputs": [
        {
          "output_type": "stream",
          "name": "stdout",
          "text": [
            "99\n"
          ]
        }
      ]
    },
    {
      "cell_type": "markdown",
      "source": [
        "INTERVIEW TIPS:-\n",
        "\n",
        "1.Dictionry vs list:-dic. is best when data can be mapped.List works when order aor sequence matters.\n",
        "\n",
        "2.Efficiency:--compute the avarage in one pass using built in function or libraries.\n",
        "\n",
        "3.keep the time complexity in the mind."
      ],
      "metadata": {
        "id": "rOH4ei2Q3-Zr"
      }
    }
  ],
  "metadata": {
    "colab": {
      "provenance": [],
      "include_colab_link": true
    },
    "kernelspec": {
      "display_name": "Python 3",
      "name": "python3"
    }
  },
  "nbformat": 4,
  "nbformat_minor": 0
}